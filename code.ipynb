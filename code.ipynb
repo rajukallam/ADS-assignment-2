{
 "cells": [
  {
   "cell_type": "code",
   "execution_count": 1,
   "metadata": {},
   "outputs": [],
   "source": [
    "#Importing the Libraries\n",
    "import pandas as pd\n",
    "import numpy as np\n",
    "from matplotlib import pyplot as plt"
   ]
  },
  {
   "cell_type": "code",
   "execution_count": 2,
   "metadata": {},
   "outputs": [
    {
     "data": {
      "text/html": [
       "<div>\n",
       "<style scoped>\n",
       "    .dataframe tbody tr th:only-of-type {\n",
       "        vertical-align: middle;\n",
       "    }\n",
       "\n",
       "    .dataframe tbody tr th {\n",
       "        vertical-align: top;\n",
       "    }\n",
       "\n",
       "    .dataframe thead th {\n",
       "        text-align: right;\n",
       "    }\n",
       "</style>\n",
       "<table border=\"1\" class=\"dataframe\">\n",
       "  <thead>\n",
       "    <tr style=\"text-align: right;\">\n",
       "      <th></th>\n",
       "      <th>CountryName</th>\n",
       "      <th>CountryCode</th>\n",
       "      <th>IndicatorName</th>\n",
       "      <th>IndicatorCode</th>\n",
       "      <th>Year</th>\n",
       "      <th>Value</th>\n",
       "    </tr>\n",
       "  </thead>\n",
       "  <tbody>\n",
       "    <tr>\n",
       "      <th>0</th>\n",
       "      <td>Arab World</td>\n",
       "      <td>ARB</td>\n",
       "      <td>Adolescent fertility rate (births per 1,000 wo...</td>\n",
       "      <td>SP.ADO.TFRT</td>\n",
       "      <td>1960</td>\n",
       "      <td>134.772341</td>\n",
       "    </tr>\n",
       "    <tr>\n",
       "      <th>1</th>\n",
       "      <td>Arab World</td>\n",
       "      <td>ARB</td>\n",
       "      <td>Age dependency ratio (% of working-age populat...</td>\n",
       "      <td>SP.POP.DPND</td>\n",
       "      <td>1960</td>\n",
       "      <td>88.061110</td>\n",
       "    </tr>\n",
       "    <tr>\n",
       "      <th>2</th>\n",
       "      <td>Arab World</td>\n",
       "      <td>ARB</td>\n",
       "      <td>Age dependency ratio, old (% of working-age po...</td>\n",
       "      <td>SP.POP.DPND.OL</td>\n",
       "      <td>1960</td>\n",
       "      <td>6.591951</td>\n",
       "    </tr>\n",
       "    <tr>\n",
       "      <th>3</th>\n",
       "      <td>Arab World</td>\n",
       "      <td>ARB</td>\n",
       "      <td>Age dependency ratio, young (% of working-age ...</td>\n",
       "      <td>SP.POP.DPND.YG</td>\n",
       "      <td>1960</td>\n",
       "      <td>81.324186</td>\n",
       "    </tr>\n",
       "    <tr>\n",
       "      <th>4</th>\n",
       "      <td>Arab World</td>\n",
       "      <td>ARB</td>\n",
       "      <td>Aquaculture production (metric tons)</td>\n",
       "      <td>ER.FSH.AQUA.MT</td>\n",
       "      <td>1960</td>\n",
       "      <td>4600.000000</td>\n",
       "    </tr>\n",
       "  </tbody>\n",
       "</table>\n",
       "</div>"
      ],
      "text/plain": [
       "  CountryName CountryCode                                      IndicatorName  \\\n",
       "0  Arab World         ARB  Adolescent fertility rate (births per 1,000 wo...   \n",
       "1  Arab World         ARB  Age dependency ratio (% of working-age populat...   \n",
       "2  Arab World         ARB  Age dependency ratio, old (% of working-age po...   \n",
       "3  Arab World         ARB  Age dependency ratio, young (% of working-age ...   \n",
       "4  Arab World         ARB               Aquaculture production (metric tons)   \n",
       "\n",
       "    IndicatorCode  Year        Value  \n",
       "0     SP.ADO.TFRT  1960   134.772341  \n",
       "1     SP.POP.DPND  1960    88.061110  \n",
       "2  SP.POP.DPND.OL  1960     6.591951  \n",
       "3  SP.POP.DPND.YG  1960    81.324186  \n",
       "4  ER.FSH.AQUA.MT  1960  4600.000000  "
      ]
     },
     "execution_count": 2,
     "metadata": {},
     "output_type": "execute_result"
    }
   ],
   "source": [
    "# Getting the wORLD bANK dATA\n",
    "world_data = pd.read_csv(\"World_data.csv\")\n",
    "world_data.head()"
   ]
  },
  {
   "cell_type": "markdown",
   "metadata": {},
   "source": [
    "The indicator selected for this assignment are:\n",
    "* CO2 emissions (kt)\n",
    "* CO2 emissions from solid fuel consumption (kt)\n",
    "* CO2 emissions from liquid fuel consumption (kt)\n",
    "* CO2 emissions from gaseous fuel consumption (kt)"
   ]
  },
  {
   "cell_type": "code",
   "execution_count": 3,
   "metadata": {},
   "outputs": [
    {
     "data": {
      "text/html": [
       "<div>\n",
       "<style scoped>\n",
       "    .dataframe tbody tr th:only-of-type {\n",
       "        vertical-align: middle;\n",
       "    }\n",
       "\n",
       "    .dataframe tbody tr th {\n",
       "        vertical-align: top;\n",
       "    }\n",
       "\n",
       "    .dataframe thead th {\n",
       "        text-align: right;\n",
       "    }\n",
       "</style>\n",
       "<table border=\"1\" class=\"dataframe\">\n",
       "  <thead>\n",
       "    <tr style=\"text-align: right;\">\n",
       "      <th></th>\n",
       "      <th>CountryName</th>\n",
       "      <th>CountryCode</th>\n",
       "      <th>IndicatorName</th>\n",
       "      <th>IndicatorCode</th>\n",
       "      <th>Year</th>\n",
       "      <th>Value</th>\n",
       "    </tr>\n",
       "  </thead>\n",
       "  <tbody>\n",
       "    <tr>\n",
       "      <th>11</th>\n",
       "      <td>Arab World</td>\n",
       "      <td>ARB</td>\n",
       "      <td>CO2 emissions (kt)</td>\n",
       "      <td>EN.ATM.CO2E.KT</td>\n",
       "      <td>1960</td>\n",
       "      <td>5.600530e+04</td>\n",
       "    </tr>\n",
       "    <tr>\n",
       "      <th>146</th>\n",
       "      <td>Caribbean small states</td>\n",
       "      <td>CSS</td>\n",
       "      <td>CO2 emissions (kt)</td>\n",
       "      <td>EN.ATM.CO2E.KT</td>\n",
       "      <td>1960</td>\n",
       "      <td>5.878201e+03</td>\n",
       "    </tr>\n",
       "    <tr>\n",
       "      <th>280</th>\n",
       "      <td>Central Europe and the Baltics</td>\n",
       "      <td>CEB</td>\n",
       "      <td>CO2 emissions (kt)</td>\n",
       "      <td>EN.ATM.CO2E.KT</td>\n",
       "      <td>1960</td>\n",
       "      <td>4.665334e+05</td>\n",
       "    </tr>\n",
       "    <tr>\n",
       "      <th>411</th>\n",
       "      <td>Early-demographic dividend</td>\n",
       "      <td>EAR</td>\n",
       "      <td>CO2 emissions (kt)</td>\n",
       "      <td>EN.ATM.CO2E.KT</td>\n",
       "      <td>1960</td>\n",
       "      <td>5.914790e+05</td>\n",
       "    </tr>\n",
       "    <tr>\n",
       "      <th>601</th>\n",
       "      <td>East Asia &amp; Pacific</td>\n",
       "      <td>EAS</td>\n",
       "      <td>CO2 emissions (kt)</td>\n",
       "      <td>EN.ATM.CO2E.KT</td>\n",
       "      <td>1960</td>\n",
       "      <td>1.215380e+06</td>\n",
       "    </tr>\n",
       "  </tbody>\n",
       "</table>\n",
       "</div>"
      ],
      "text/plain": [
       "                        CountryName CountryCode       IndicatorName  \\\n",
       "11                       Arab World         ARB  CO2 emissions (kt)   \n",
       "146          Caribbean small states         CSS  CO2 emissions (kt)   \n",
       "280  Central Europe and the Baltics         CEB  CO2 emissions (kt)   \n",
       "411      Early-demographic dividend         EAR  CO2 emissions (kt)   \n",
       "601             East Asia & Pacific         EAS  CO2 emissions (kt)   \n",
       "\n",
       "      IndicatorCode  Year         Value  \n",
       "11   EN.ATM.CO2E.KT  1960  5.600530e+04  \n",
       "146  EN.ATM.CO2E.KT  1960  5.878201e+03  \n",
       "280  EN.ATM.CO2E.KT  1960  4.665334e+05  \n",
       "411  EN.ATM.CO2E.KT  1960  5.914790e+05  \n",
       "601  EN.ATM.CO2E.KT  1960  1.215380e+06  "
      ]
     },
     "execution_count": 3,
     "metadata": {},
     "output_type": "execute_result"
    }
   ],
   "source": [
    "#Creating Dataframes based on Selected Indicators\n",
    "total_emission_df = world_data[world_data[\"IndicatorName\"] == \"CO2 emissions (kt)\"]\n",
    "solid_emission_df = world_data[world_data[\"IndicatorName\"] == \"CO2 emissions from solid fuel consumption (kt)\"]\n",
    "liquid_emission_df = world_data[world_data[\"IndicatorName\"] == \"CO2 emissions from liquid fuel consumption (kt)\"]\n",
    "gaseous_emission_df = world_data[world_data[\"IndicatorName\"] == \"CO2 emissions from gaseous fuel consumption (kt)\"]\n",
    "\n",
    "total_emission_df.head()"
   ]
  },
  {
   "cell_type": "code",
   "execution_count": 4,
   "metadata": {},
   "outputs": [
    {
     "data": {
      "text/plain": [
       "Year       1989.197952\n",
       "Value    727933.884920\n",
       "dtype: float64"
      ]
     },
     "execution_count": 4,
     "metadata": {},
     "output_type": "execute_result"
    }
   ],
   "source": [
    "# Finding the mean() of total_emissions\n",
    "total_emission_df.mean()"
   ]
  },
  {
   "cell_type": "code",
   "execution_count": 5,
   "metadata": {},
   "outputs": [
    {
     "name": "stdout",
     "output_type": "stream",
     "text": [
      "5510836458836.431\n",
      "1311062522163.2917\n",
      "649599253584.1671\n",
      "186411278652.77145\n"
     ]
    }
   ],
   "source": [
    "# Checking Population Variance of all four indicators\n",
    "import statistics as stat\n",
    "print(stat.pvariance(total_emission_df['Value']))\n",
    "print(stat.pvariance(solid_emission_df['Value']))\n",
    "print(stat.pvariance(liquid_emission_df['Value']))\n",
    "print(stat.pvariance(gaseous_emission_df['Value']))"
   ]
  },
  {
   "cell_type": "code",
   "execution_count": 6,
   "metadata": {},
   "outputs": [
    {
     "name": "stdout",
     "output_type": "stream",
     "text": [
      "data1: mean=727933.885 stdv=2347607.462\n",
      "data2: mean=315957.303 stdv=1145064.042\n",
      "data3: mean=259748.724 stdv=806008.165\n",
      "data4: mean=130073.360 stdv=431771.337\n"
     ]
    }
   ],
   "source": [
    "#Printing mean and standard deviation for all four indicators\n",
    "print('data1: mean=%.3f stdv=%.3f' % (stat.mean(total_emission_df['Value']), stat.stdev(total_emission_df['Value'])))\n",
    "print('data2: mean=%.3f stdv=%.3f' % (stat.mean(solid_emission_df['Value']), stat.stdev(solid_emission_df['Value'])))\n",
    "print('data3: mean=%.3f stdv=%.3f' % (stat.mean(liquid_emission_df['Value']), stat.stdev(liquid_emission_df['Value'])))\n",
    "print('data4: mean=%.3f stdv=%.3f' % (stat.mean(gaseous_emission_df['Value']), stat.stdev(gaseous_emission_df['Value'])))"
   ]
  },
  {
   "cell_type": "code",
   "execution_count": 7,
   "metadata": {},
   "outputs": [
    {
     "name": "stdout",
     "output_type": "stream",
     "text": [
      "Pearsons correlation: 0.088\n"
     ]
    }
   ],
   "source": [
    "#Calculating pearson correlation for total emissions\n",
    "from scipy.stats import pearsonr\n",
    "corr, _ = pearsonr(total_emission_df['Year'] , total_emission_df['Value'])\n",
    "print('Pearsons correlation: %.3f' % corr)"
   ]
  },
  {
   "cell_type": "code",
   "execution_count": 8,
   "metadata": {},
   "outputs": [],
   "source": [
    "# Picking two countries for further analysis\n",
    "country_list = [\"ARB\", \"EAS\"]"
   ]
  },
  {
   "cell_type": "code",
   "execution_count": 9,
   "metadata": {},
   "outputs": [
    {
     "name": "stdout",
     "output_type": "stream",
     "text": [
      "country:ARB\n",
      "              Year         Value\n",
      "count    57.000000  5.700000e+01\n",
      "mean   1988.000000  7.744798e+05\n",
      "std      16.598193  5.591249e+05\n",
      "min    1960.000000  5.600530e+04\n",
      "25%    1974.000000  3.091536e+05\n",
      "50%    1988.000000  6.548235e+05\n",
      "75%    2002.000000  1.062297e+06\n",
      "max    2016.000000  1.953774e+06\n",
      "country:EAS\n",
      "              Year         Value\n",
      "count    57.000000  5.700000e+01\n",
      "mean   1988.000000  5.618949e+06\n",
      "std      16.598193  4.071228e+06\n",
      "min    1960.000000  9.654668e+05\n",
      "25%    1974.000000  2.512486e+06\n",
      "50%    1988.000000  4.580927e+06\n",
      "75%    2002.000000  7.120525e+06\n",
      "max    2016.000000  1.416607e+07\n",
      "World:\n",
      "               Year         Value\n",
      "count  12988.000000  1.298800e+04\n",
      "mean    1989.197952  7.279339e+05\n",
      "std       16.455367  2.347607e+06\n",
      "min     1960.000000 -8.067400e+01\n",
      "25%     1975.000000  1.030427e+03\n",
      "50%     1990.000000  1.240179e+04\n",
      "75%     2004.000000  1.548498e+05\n",
      "max     2016.000000  2.160113e+07\n"
     ]
    }
   ],
   "source": [
    "# getting all stat variables for both the countries and the whole world data\n",
    "for country in country_list:\n",
    "    print(\"country:\"+country)\n",
    "    print(total_emission_df[total_emission_df[\"CountryCode\"]==country].describe())\n",
    "print(\"World:\")\n",
    "print(total_emission_df.describe()) "
   ]
  },
  {
   "cell_type": "code",
   "execution_count": 10,
   "metadata": {},
   "outputs": [
    {
     "data": {
      "text/html": [
       "<div>\n",
       "<style scoped>\n",
       "    .dataframe tbody tr th:only-of-type {\n",
       "        vertical-align: middle;\n",
       "    }\n",
       "\n",
       "    .dataframe tbody tr th {\n",
       "        vertical-align: top;\n",
       "    }\n",
       "\n",
       "    .dataframe thead th {\n",
       "        text-align: right;\n",
       "    }\n",
       "</style>\n",
       "<table border=\"1\" class=\"dataframe\">\n",
       "  <thead>\n",
       "    <tr style=\"text-align: right;\">\n",
       "      <th></th>\n",
       "      <th>Value_x</th>\n",
       "      <th>Year</th>\n",
       "      <th>Value_y</th>\n",
       "    </tr>\n",
       "  </thead>\n",
       "  <tbody>\n",
       "    <tr>\n",
       "      <th>0</th>\n",
       "      <td>56005.299798</td>\n",
       "      <td>1960</td>\n",
       "      <td>1.215380e+06</td>\n",
       "    </tr>\n",
       "    <tr>\n",
       "      <th>1</th>\n",
       "      <td>62578.605590</td>\n",
       "      <td>1961</td>\n",
       "      <td>1.052154e+06</td>\n",
       "    </tr>\n",
       "    <tr>\n",
       "      <th>2</th>\n",
       "      <td>70562.050726</td>\n",
       "      <td>1962</td>\n",
       "      <td>9.654668e+05</td>\n",
       "    </tr>\n",
       "    <tr>\n",
       "      <th>3</th>\n",
       "      <td>85085.751513</td>\n",
       "      <td>1963</td>\n",
       "      <td>1.010724e+06</td>\n",
       "    </tr>\n",
       "    <tr>\n",
       "      <th>4</th>\n",
       "      <td>99693.913771</td>\n",
       "      <td>1964</td>\n",
       "      <td>1.066263e+06</td>\n",
       "    </tr>\n",
       "  </tbody>\n",
       "</table>\n",
       "</div>"
      ],
      "text/plain": [
       "        Value_x  Year       Value_y\n",
       "0  56005.299798  1960  1.215380e+06\n",
       "1  62578.605590  1961  1.052154e+06\n",
       "2  70562.050726  1962  9.654668e+05\n",
       "3  85085.751513  1963  1.010724e+06\n",
       "4  99693.913771  1964  1.066263e+06"
      ]
     },
     "execution_count": 10,
     "metadata": {},
     "output_type": "execute_result"
    }
   ],
   "source": [
    "# creation of individual dataframes for each country and merge them on year\n",
    "corr_country_df1 = total_emission_df[total_emission_df[\"CountryCode\"]=='ARB']\n",
    "corr_country_df2 = total_emission_df[total_emission_df[\"CountryCode\"]=='EAS']\n",
    "df3 = corr_country_df1[[\"Value\",\"Year\"]].merge(corr_country_df2[[\"Value\",\"Year\"]],on=[\"Year\"])\n",
    "df3.head()"
   ]
  },
  {
   "cell_type": "code",
   "execution_count": 11,
   "metadata": {},
   "outputs": [
    {
     "data": {
      "text/html": [
       "<div>\n",
       "<style scoped>\n",
       "    .dataframe tbody tr th:only-of-type {\n",
       "        vertical-align: middle;\n",
       "    }\n",
       "\n",
       "    .dataframe tbody tr th {\n",
       "        vertical-align: top;\n",
       "    }\n",
       "\n",
       "    .dataframe thead th {\n",
       "        text-align: right;\n",
       "    }\n",
       "</style>\n",
       "<table border=\"1\" class=\"dataframe\">\n",
       "  <thead>\n",
       "    <tr style=\"text-align: right;\">\n",
       "      <th></th>\n",
       "      <th>Value_x</th>\n",
       "      <th>Year</th>\n",
       "      <th>Value_y</th>\n",
       "    </tr>\n",
       "  </thead>\n",
       "  <tbody>\n",
       "    <tr>\n",
       "      <th>Value_x</th>\n",
       "      <td>1.000000</td>\n",
       "      <td>0.972027</td>\n",
       "      <td>0.992528</td>\n",
       "    </tr>\n",
       "    <tr>\n",
       "      <th>Year</th>\n",
       "      <td>0.972027</td>\n",
       "      <td>1.000000</td>\n",
       "      <td>0.946258</td>\n",
       "    </tr>\n",
       "    <tr>\n",
       "      <th>Value_y</th>\n",
       "      <td>0.992528</td>\n",
       "      <td>0.946258</td>\n",
       "      <td>1.000000</td>\n",
       "    </tr>\n",
       "  </tbody>\n",
       "</table>\n",
       "</div>"
      ],
      "text/plain": [
       "          Value_x      Year   Value_y\n",
       "Value_x  1.000000  0.972027  0.992528\n",
       "Year     0.972027  1.000000  0.946258\n",
       "Value_y  0.992528  0.946258  1.000000"
      ]
     },
     "execution_count": 11,
     "metadata": {},
     "output_type": "execute_result"
    }
   ],
   "source": [
    "#getting the correlation value to see the change across years\n",
    "df3.corr()"
   ]
  },
  {
   "cell_type": "markdown",
   "metadata": {},
   "source": [
    "###Value_x and Value_y represent the correlation between countries (EAR and ARB). There is 99% change across years"
   ]
  },
  {
   "cell_type": "code",
   "execution_count": 16,
   "metadata": {},
   "outputs": [
    {
     "data": {
      "text/plain": [
       "<AxesSubplot:xlabel='Year'>"
      ]
     },
     "execution_count": 16,
     "metadata": {},
     "output_type": "execute_result"
    },
    {
     "data": {
      "image/png": "[encoded data removed]",
      "text/plain": [
       "<Figure size 432x288 with 1 Axes>"
      ]
     },
     "metadata": {
      "needs_background": "light"
     },
     "output_type": "display_data"
    }
   ],
   "source": [
    "#plotting total_emission\n",
    "total_emission_df.plot(x=\"Year\", y=\"Value\")"
   ]
  },
  {
   "cell_type": "code",
   "execution_count": 17,
   "metadata": {},
   "outputs": [
    {
     "name": "stdout",
     "output_type": "stream",
     "text": [
      "The emission from Solid\n"
     ]
    },
    {
     "data": {
      "image/png": "[encoded data removed]",
      "text/plain": [
       "<Figure size 432x288 with 1 Axes>"
      ]
     },
     "metadata": {
      "needs_background": "light"
     },
     "output_type": "display_data"
    },
    {
     "name": "stdout",
     "output_type": "stream",
     "text": [
      "The emission from Liquid\n"
     ]
    },
    {
     "data": {
      "image/png": "[encoded data removed]",
      "text/plain": [
       "<Figure size 432x288 with 1 Axes>"
      ]
     },
     "metadata": {
      "needs_background": "light"
     },
     "output_type": "display_data"
    },
    {
     "name": "stdout",
     "output_type": "stream",
     "text": [
      "The emission from Gas\n"
     ]
    },
    {
     "data": {
      "image/png": "[encoded data removed]",
      "text/plain": [
       "<Figure size 432x288 with 1 Axes>"
      ]
     },
     "metadata": {
      "needs_background": "light"
     },
     "output_type": "display_data"
    }
   ],
   "source": [
    "#individual plots for Solid, Liquid and Gas emissions\n",
    "emission_dict = {\"Solid\":solid_emission_df, \"Liquid\":liquid_emission_df, \"Gas\":gaseous_emission_df}\n",
    "for state in [\"Solid\", \"Liquid\", \"Gas\"]:\n",
    "    data = emission_dict[state].copy()\n",
    "    print(\"The emission from \"+state)\n",
    "    data.plot(x=\"Year\", y=\"Value\")\n",
    "    plt.show()\n",
    "    "
   ]
  },
  {
   "cell_type": "code",
   "execution_count": 18,
   "metadata": {},
   "outputs": [
    {
     "data": {
      "text/html": [
       "<div>\n",
       "<style scoped>\n",
       "    .dataframe tbody tr th:only-of-type {\n",
       "        vertical-align: middle;\n",
       "    }\n",
       "\n",
       "    .dataframe tbody tr th {\n",
       "        vertical-align: top;\n",
       "    }\n",
       "\n",
       "    .dataframe thead th {\n",
       "        text-align: right;\n",
       "    }\n",
       "</style>\n",
       "<table border=\"1\" class=\"dataframe\">\n",
       "  <thead>\n",
       "    <tr style=\"text-align: right;\">\n",
       "      <th></th>\n",
       "      <th>CountryName</th>\n",
       "      <th>CountryCode</th>\n",
       "      <th>IndicatorName</th>\n",
       "      <th>IndicatorCode</th>\n",
       "      <th>Year</th>\n",
       "      <th>Value</th>\n",
       "    </tr>\n",
       "  </thead>\n",
       "  <tbody>\n",
       "    <tr>\n",
       "      <th>290</th>\n",
       "      <td>Central Europe and the Baltics</td>\n",
       "      <td>CEB</td>\n",
       "      <td>CO2 emissions from solid fuel consumption (kt)</td>\n",
       "      <td>EN.ATM.CO2E.SF.KT</td>\n",
       "      <td>1960</td>\n",
       "      <td>3.634896e+05</td>\n",
       "    </tr>\n",
       "    <tr>\n",
       "      <th>421</th>\n",
       "      <td>Early-demographic dividend</td>\n",
       "      <td>EAR</td>\n",
       "      <td>CO2 emissions from solid fuel consumption (kt)</td>\n",
       "      <td>EN.ATM.CO2E.SF.KT</td>\n",
       "      <td>1960</td>\n",
       "      <td>2.557509e+05</td>\n",
       "    </tr>\n",
       "    <tr>\n",
       "      <th>611</th>\n",
       "      <td>East Asia &amp; Pacific</td>\n",
       "      <td>EAS</td>\n",
       "      <td>CO2 emissions from solid fuel consumption (kt)</td>\n",
       "      <td>EN.ATM.CO2E.SF.KT</td>\n",
       "      <td>1960</td>\n",
       "      <td>1.008221e+06</td>\n",
       "    </tr>\n",
       "    <tr>\n",
       "      <th>776</th>\n",
       "      <td>East Asia &amp; Pacific (excluding high income)</td>\n",
       "      <td>EAP</td>\n",
       "      <td>CO2 emissions from solid fuel consumption (kt)</td>\n",
       "      <td>EN.ATM.CO2E.SF.KT</td>\n",
       "      <td>1960</td>\n",
       "      <td>7.824027e+05</td>\n",
       "    </tr>\n",
       "    <tr>\n",
       "      <th>950</th>\n",
       "      <td>East Asia &amp; Pacific (IDA &amp; IBRD countries)</td>\n",
       "      <td>TEA</td>\n",
       "      <td>CO2 emissions from solid fuel consumption (kt)</td>\n",
       "      <td>EN.ATM.CO2E.SF.KT</td>\n",
       "      <td>1960</td>\n",
       "      <td>7.602874e+05</td>\n",
       "    </tr>\n",
       "  </tbody>\n",
       "</table>\n",
       "</div>"
      ],
      "text/plain": [
       "                                     CountryName CountryCode  \\\n",
       "290               Central Europe and the Baltics         CEB   \n",
       "421                   Early-demographic dividend         EAR   \n",
       "611                          East Asia & Pacific         EAS   \n",
       "776  East Asia & Pacific (excluding high income)         EAP   \n",
       "950   East Asia & Pacific (IDA & IBRD countries)         TEA   \n",
       "\n",
       "                                      IndicatorName      IndicatorCode  Year  \\\n",
       "290  CO2 emissions from solid fuel consumption (kt)  EN.ATM.CO2E.SF.KT  1960   \n",
       "421  CO2 emissions from solid fuel consumption (kt)  EN.ATM.CO2E.SF.KT  1960   \n",
       "611  CO2 emissions from solid fuel consumption (kt)  EN.ATM.CO2E.SF.KT  1960   \n",
       "776  CO2 emissions from solid fuel consumption (kt)  EN.ATM.CO2E.SF.KT  1960   \n",
       "950  CO2 emissions from solid fuel consumption (kt)  EN.ATM.CO2E.SF.KT  1960   \n",
       "\n",
       "            Value  \n",
       "290  3.634896e+05  \n",
       "421  2.557509e+05  \n",
       "611  1.008221e+06  \n",
       "776  7.824027e+05  \n",
       "950  7.602874e+05  "
      ]
     },
     "execution_count": 18,
     "metadata": {},
     "output_type": "execute_result"
    }
   ],
   "source": [
    "# merging dataframes\n",
    "data = solid_emission_df.append(liquid_emission_df).append(gaseous_emission_df)\n",
    "data.head()"
   ]
  },
  {
   "cell_type": "code",
   "execution_count": 19,
   "metadata": {},
   "outputs": [
    {
     "data": {
      "text/plain": [
       "<AxesSubplot:ylabel='Value'>"
      ]
     },
     "execution_count": 19,
     "metadata": {},
     "output_type": "execute_result"
    },
    {
     "data": {
      "image/png": "[encoded data removed]",
      "text/plain": [
       "<Figure size 1080x720 with 1 Axes>"
      ]
     },
     "metadata": {},
     "output_type": "display_data"
    }
   ],
   "source": [
    "# pie chart for all indicators\n",
    "data.groupby(['IndicatorName']).sum().plot(kind='pie', y='Value', figsize=(15, 10), autopct='%1.1f%%')"
   ]
  },
  {
   "cell_type": "code",
   "execution_count": null,
   "metadata": {},
   "outputs": [],
   "source": []
  }
 ],
 "metadata": {
  "kernelspec": {
   "display_name": "Python 3",
   "language": "python",
   "name": "python3"
  },
  "language_info": {
   "codemirror_mode": {
    "name": "ipython",
    "version": 3
   },
   "file_extension": ".py",
   "mimetype": "text/x-python",
   "name": "python",
   "nbconvert_exporter": "python",
   "pygments_lexer": "ipython3",
   "version": "3.8.5"
  }
 },
 "nbformat": 4,
 "nbformat_minor": 5
}
